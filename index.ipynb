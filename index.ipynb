{
 "cells": [
  {
   "cell_type": "markdown",
   "metadata": {},
   "source": [
    "# Variables Lab"
   ]
  },
  {
   "cell_type": "markdown",
   "metadata": {},
   "source": [
    "### Introduction"
   ]
  },
  {
   "cell_type": "markdown",
   "metadata": {},
   "source": [
    "Now that we know about variables, we want to put them to use by associating them with some data.  Here, we will be using variables to store information related to a vacation that we would like to go on.\n",
    "\n",
    "Just as before, we ask you to run the code and ensure that it matches what is commented out."
   ]
  },
  {
   "cell_type": "markdown",
   "metadata": {},
   "source": [
    "### Learning Objectives"
   ]
  },
  {
   "cell_type": "markdown",
   "metadata": {},
   "source": [
    "* Practice variable assignment in Python\n",
    "* Practice variable reassignment in Python"
   ]
  },
  {
   "cell_type": "markdown",
   "metadata": {},
   "source": [
    "### Assigning variables"
   ]
  },
  {
   "cell_type": "markdown",
   "metadata": {},
   "source": [
    "Assign a variable of `travel_month` equal to the string \"January\", as that is the month we would like to travel."
   ]
  },
  {
   "cell_type": "code",
   "execution_count": 7,
   "metadata": {},
   "outputs": [],
   "source": [
    "travel_month = 'January'"
   ]
  },
  {
   "cell_type": "markdown",
   "metadata": {},
   "source": [
    "> We start by setting the variable equal to the data type None.  As we know, `None` represents the absence of a value. Now we can take care of assigning the variable to something other than `None`."
   ]
  },
  {
   "cell_type": "code",
   "execution_count": 8,
   "metadata": {},
   "outputs": [
    {
     "data": {
      "text/plain": [
       "'January'"
      ]
     },
     "execution_count": 8,
     "metadata": {},
     "output_type": "execute_result"
    }
   ],
   "source": [
    "travel_month # \"January\""
   ]
  },
  {
   "cell_type": "markdown",
   "metadata": {},
   "source": [
    "Now let's assign a variable equal to the number of weeks that we would like to travel, 3. "
   ]
  },
  {
   "cell_type": "markdown",
   "metadata": {
    "collapsed": true
   },
   "source": [
    "number_of_weeks = 3"
   ]
  },
  {
   "cell_type": "code",
   "execution_count": 10,
   "metadata": {},
   "outputs": [
    {
     "data": {
      "text/plain": [
       "3"
      ]
     },
     "execution_count": 10,
     "metadata": {},
     "output_type": "execute_result"
    }
   ],
   "source": [
    "number_of_weeks = 3\n",
    "number_of_weeks# 3"
   ]
  },
  {
   "cell_type": "markdown",
   "metadata": {},
   "source": [
    "UPDATE: we just learned that we can travel for a longer period of time. So, we need to reassign the `number_of_weeks` variable equal to `5`."
   ]
  },
  {
   "cell_type": "code",
   "execution_count": 5,
   "metadata": {
    "collapsed": true
   },
   "outputs": [],
   "source": [
    "number_of_weeks =  # 5"
   ]
  },
  {
   "cell_type": "markdown",
   "metadata": {},
   "source": [
    "Now that's more like it."
   ]
  },
  {
   "cell_type": "code",
   "execution_count": 15,
   "metadata": {
    "scrolled": true
   },
   "outputs": [
    {
     "name": "stdout",
     "output_type": "stream",
     "text": [
      "ISNUMBER(SEARCH(Sheet5!$A$1,E2)),Sheet5!$A$1,\n",
      "ISNUMBER(SEARCH(Sheet5!$A$2,E2)),Sheet5!$A$2,\n",
      "ISNUMBER(SEARCH(Sheet5!$A$3,E2)),Sheet5!$A$3,\n",
      "ISNUMBER(SEARCH(Sheet5!$A$4,E2)),Sheet5!$A$4,\n",
      "ISNUMBER(SEARCH(Sheet5!$A$5,E2)),Sheet5!$A$5,\n",
      "ISNUMBER(SEARCH(Sheet5!$A$6,E2)),Sheet5!$A$6,\n",
      "ISNUMBER(SEARCH(Sheet5!$A$7,E2)),Sheet5!$A$7,\n",
      "ISNUMBER(SEARCH(Sheet5!$A$8,E2)),Sheet5!$A$8,\n",
      "ISNUMBER(SEARCH(Sheet5!$A$9,E2)),Sheet5!$A$9,\n",
      "ISNUMBER(SEARCH(Sheet5!$A$10,E2)),Sheet5!$A$10,\n",
      "ISNUMBER(SEARCH(Sheet5!$A$11,E2)),Sheet5!$A$11,\n",
      "ISNUMBER(SEARCH(Sheet5!$A$12,E2)),Sheet5!$A$12,\n",
      "ISNUMBER(SEARCH(Sheet5!$A$13,E2)),Sheet5!$A$13,\n",
      "ISNUMBER(SEARCH(Sheet5!$A$14,E2)),Sheet5!$A$14,\n",
      "ISNUMBER(SEARCH(Sheet5!$A$15,E2)),Sheet5!$A$15,\n",
      "ISNUMBER(SEARCH(Sheet5!$A$16,E2)),Sheet5!$A$16,\n",
      "ISNUMBER(SEARCH(Sheet5!$A$17,E2)),Sheet5!$A$17,\n",
      "ISNUMBER(SEARCH(Sheet5!$A$18,E2)),Sheet5!$A$18,\n",
      "ISNUMBER(SEARCH(Sheet5!$A$19,E2)),Sheet5!$A$19,\n",
      "ISNUMBER(SEARCH(Sheet5!$A$20,E2)),Sheet5!$A$20,\n",
      "ISNUMBER(SEARCH(Sheet5!$A$21,E2)),Sheet5!$A$21,\n",
      "ISNUMBER(SEARCH(Sheet5!$A$22,E2)),Sheet5!$A$22,\n",
      "ISNUMBER(SEARCH(Sheet5!$A$23,E2)),Sheet5!$A$23,\n",
      "ISNUMBER(SEARCH(Sheet5!$A$24,E2)),Sheet5!$A$24,\n",
      "ISNUMBER(SEARCH(Sheet5!$A$25,E2)),Sheet5!$A$25,\n",
      "ISNUMBER(SEARCH(Sheet5!$A$26,E2)),Sheet5!$A$26,\n",
      "ISNUMBER(SEARCH(Sheet5!$A$27,E2)),Sheet5!$A$27,\n",
      "ISNUMBER(SEARCH(Sheet5!$A$28,E2)),Sheet5!$A$28,\n",
      "ISNUMBER(SEARCH(Sheet5!$A$29,E2)),Sheet5!$A$29,\n",
      "ISNUMBER(SEARCH(Sheet5!$A$30,E2)),Sheet5!$A$30,\n",
      "ISNUMBER(SEARCH(Sheet5!$A$31,E2)),Sheet5!$A$31,\n",
      "ISNUMBER(SEARCH(Sheet5!$A$32,E2)),Sheet5!$A$32,\n",
      "ISNUMBER(SEARCH(Sheet5!$A$33,E2)),Sheet5!$A$33,\n",
      "ISNUMBER(SEARCH(Sheet5!$A$34,E2)),Sheet5!$A$34,\n",
      "ISNUMBER(SEARCH(Sheet5!$A$35,E2)),Sheet5!$A$35,\n",
      "ISNUMBER(SEARCH(Sheet5!$A$36,E2)),Sheet5!$A$36,\n",
      "ISNUMBER(SEARCH(Sheet5!$A$37,E2)),Sheet5!$A$37,\n",
      "ISNUMBER(SEARCH(Sheet5!$A$38,E2)),Sheet5!$A$38,\n",
      "ISNUMBER(SEARCH(Sheet5!$A$39,E2)),Sheet5!$A$39,\n",
      "ISNUMBER(SEARCH(Sheet5!$A$40,E2)),Sheet5!$A$40,\n",
      "ISNUMBER(SEARCH(Sheet5!$A$41,E2)),Sheet5!$A$41,\n",
      "ISNUMBER(SEARCH(Sheet5!$A$42,E2)),Sheet5!$A$42,\n",
      "ISNUMBER(SEARCH(Sheet5!$A$43,E2)),Sheet5!$A$43,\n",
      "ISNUMBER(SEARCH(Sheet5!$A$44,E2)),Sheet5!$A$44,\n",
      "ISNUMBER(SEARCH(Sheet5!$A$45,E2)),Sheet5!$A$45,\n",
      "ISNUMBER(SEARCH(Sheet5!$A$46,E2)),Sheet5!$A$46,\n",
      "ISNUMBER(SEARCH(Sheet5!$A$47,E2)),Sheet5!$A$47,\n",
      "ISNUMBER(SEARCH(Sheet5!$A$48,E2)),Sheet5!$A$48,\n",
      "ISNUMBER(SEARCH(Sheet5!$A$49,E2)),Sheet5!$A$49,\n",
      "ISNUMBER(SEARCH(Sheet5!$A$50,E2)),Sheet5!$A$50,\n",
      "ISNUMBER(SEARCH(Sheet5!$A$51,E2)),Sheet5!$A$51,\n",
      "ISNUMBER(SEARCH(Sheet5!$A$52,E2)),Sheet5!$A$52,\n",
      "ISNUMBER(SEARCH(Sheet5!$A$53,E2)),Sheet5!$A$53,\n",
      "ISNUMBER(SEARCH(Sheet5!$A$54,E2)),Sheet5!$A$54,\n",
      "ISNUMBER(SEARCH(Sheet5!$A$55,E2)),Sheet5!$A$55,\n",
      "ISNUMBER(SEARCH(Sheet5!$A$56,E2)),Sheet5!$A$56,\n",
      "ISNUMBER(SEARCH(Sheet5!$A$57,E2)),Sheet5!$A$57,\n",
      "ISNUMBER(SEARCH(Sheet5!$A$58,E2)),Sheet5!$A$58,\n",
      "ISNUMBER(SEARCH(Sheet5!$A$59,E2)),Sheet5!$A$59,\n",
      "ISNUMBER(SEARCH(Sheet5!$A$60,E2)),Sheet5!$A$60,\n",
      "ISNUMBER(SEARCH(Sheet5!$A$61,E2)),Sheet5!$A$61,\n",
      "ISNUMBER(SEARCH(Sheet5!$A$62,E2)),Sheet5!$A$62,\n",
      "ISNUMBER(SEARCH(Sheet5!$A$63,E2)),Sheet5!$A$63,\n",
      "ISNUMBER(SEARCH(Sheet5!$A$64,E2)),Sheet5!$A$64,\n",
      "ISNUMBER(SEARCH(Sheet5!$A$65,E2)),Sheet5!$A$65,\n",
      "ISNUMBER(SEARCH(Sheet5!$A$66,E2)),Sheet5!$A$66,\n",
      "ISNUMBER(SEARCH(Sheet5!$A$67,E2)),Sheet5!$A$67,\n",
      "ISNUMBER(SEARCH(Sheet5!$A$68,E2)),Sheet5!$A$68,\n",
      "ISNUMBER(SEARCH(Sheet5!$A$69,E2)),Sheet5!$A$69,\n",
      "ISNUMBER(SEARCH(Sheet5!$A$70,E2)),Sheet5!$A$70,\n",
      "ISNUMBER(SEARCH(Sheet5!$A$71,E2)),Sheet5!$A$71,\n",
      "ISNUMBER(SEARCH(Sheet5!$A$72,E2)),Sheet5!$A$72,\n",
      "ISNUMBER(SEARCH(Sheet5!$A$73,E2)),Sheet5!$A$73,\n",
      "ISNUMBER(SEARCH(Sheet5!$A$74,E2)),Sheet5!$A$74,\n",
      "ISNUMBER(SEARCH(Sheet5!$A$75,E2)),Sheet5!$A$75,\n",
      "ISNUMBER(SEARCH(Sheet5!$A$76,E2)),Sheet5!$A$76,\n"
     ]
    }
   ],
   "source": [
    "count = 0\n",
    "for x in range(76):\n",
    "    count += 1\n",
    "    print(f\"ISNUMBER(SEARCH(Sheet5!$A${count},E2)),Sheet5!$A${count},\")\n",
    "    "
   ]
  },
  {
   "cell_type": "markdown",
   "metadata": {},
   "source": [
    "### Summary"
   ]
  },
  {
   "cell_type": "markdown",
   "metadata": {},
   "source": [
    "Great! In this lab, we were able to get a sense how to store information in variables through assignment and reassignment."
   ]
  }
 ],
 "metadata": {
  "kernelspec": {
   "display_name": "Python 2",
   "language": "python",
   "name": "python2"
  },
  "language_info": {
   "codemirror_mode": {
    "name": "ipython",
    "version": 3
   },
   "file_extension": ".py",
   "mimetype": "text/x-python",
   "name": "python",
   "nbconvert_exporter": "python",
   "pygments_lexer": "ipython3",
   "version": "3.6.9"
  }
 },
 "nbformat": 4,
 "nbformat_minor": 2
}
